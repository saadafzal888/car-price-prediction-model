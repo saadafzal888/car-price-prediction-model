{
 "cells": [
  {
   "cell_type": "markdown",
   "id": "4c589c8f",
   "metadata": {},
   "source": [
    "# Car Price Prediction Model\n",
    " Creating a price prediction model for cars based on the Car Dataset from Kaggle involves several steps,\n",
    " including data preprocessing, feature engineering, model selection, training, evaluation, and optimization.\n",
    " Dataset Source: \n",
    "Kaggle.com\n",
    " (https://www.kaggle.com/datasets/nehalbirla/vehicle-dataset-from-cardekho?select=Car+details+v3.csv)"
   ]
  },
  {
   "cell_type": "markdown",
   "id": "11da41f7-8a0c-4487-b621-a0712e855a2a",
   "metadata": {},
   "source": [
    "# Overview\n",
    " The car dataset comprises information about various cars including their make, model, price, year, mileage,\n",
    " fuel type, transmission, location, color, owner type, seller type, engine specifications, dimensions, seating\n",
    " capacity, and fuel tank capacity.\n",
    "## Features\n",
    " \n",
    "- Make: Manufacturer or brand of the car.\n",
    "- Model: Model name or number of the car.\n",
    "- Price: Price of the car in the local currency.\n",
    "- Year: Manufacturing year of the car.\n",
    "- Kilometer: Mileage or distance traveled by the car in kilometers.\n",
    "- Fuel Type: Type of fuel used by the car (e.g., Diesel, Petrol, CNG).\n",
    "- Transmission: Type of transmission (e.g., Manual, Automatic).\n",
    "- Location: Location where the car is available or registered.\n",
    "- Color: Exterior color of the car.\n",
    "- Owner: Ownership type (e.g., First owner, Second owner).\n",
    "- Seller Type: Type of seller (e.g., Individual, Corporate).\n",
    "- Engine: Engine displacement in cubic centimeters (cc).\n",
    "- Max Power: Maximum power output of the engine in brake horsepower (bhp) at a specific RPM.\n",
    "- Max Torque: Maximum torque produced by the engine in Newton-meters (Nm) at a specific RPM.\n",
    "- Drivetrain: Type of drivetrain (e.g., FWD - Front-Wheel Drive, RWD - Rear-Wheel Drive).\n",
    "- Length: Length of the car in millimeters.\n",
    "- Width: Width of the car in millimeters.\n",
    "- Height: Height of the car in millimeters.\n",
    "- Seating Capacity: Number of seats in the car.\n",
    "- Fuel Tank Capacity: Capacity of the fuel tank in liters."
   ]
  },
  {
   "cell_type": "code",
   "execution_count": 3,
   "id": "141a6ae7",
   "metadata": {},
   "outputs": [],
   "source": [
    "# Importing Necessary Libraries\n",
    "import numpy as np\n",
    "import pandas as pd \n",
    "import matplotlib.pyplot as plt\n",
    "import seaborn as sns\n",
    "pd.set_option('display.max_columns',None)\n"
   ]
  },
  {
   "cell_type": "code",
   "execution_count": 4,
   "id": "7fe09973",
   "metadata": {},
   "outputs": [
    {
     "data": {
      "text/html": [
       "<div>\n",
       "<style scoped>\n",
       "    .dataframe tbody tr th:only-of-type {\n",
       "        vertical-align: middle;\n",
       "    }\n",
       "\n",
       "    .dataframe tbody tr th {\n",
       "        vertical-align: top;\n",
       "    }\n",
       "\n",
       "    .dataframe thead th {\n",
       "        text-align: right;\n",
       "    }\n",
       "</style>\n",
       "<table border=\"1\" class=\"dataframe\">\n",
       "  <thead>\n",
       "    <tr style=\"text-align: right;\">\n",
       "      <th></th>\n",
       "      <th>Make</th>\n",
       "      <th>Model</th>\n",
       "      <th>Price</th>\n",
       "      <th>Year</th>\n",
       "      <th>Kilometer</th>\n",
       "      <th>Fuel Type</th>\n",
       "      <th>Transmission</th>\n",
       "      <th>Location</th>\n",
       "      <th>Color</th>\n",
       "      <th>Owner</th>\n",
       "      <th>Seller Type</th>\n",
       "      <th>Engine</th>\n",
       "      <th>Max Power</th>\n",
       "      <th>Max Torque</th>\n",
       "      <th>Drivetrain</th>\n",
       "      <th>Length</th>\n",
       "      <th>Width</th>\n",
       "      <th>Height</th>\n",
       "      <th>Seating Capacity</th>\n",
       "      <th>Fuel Tank Capacity</th>\n",
       "    </tr>\n",
       "  </thead>\n",
       "  <tbody>\n",
       "    <tr>\n",
       "      <th>0</th>\n",
       "      <td>Honda</td>\n",
       "      <td>Amaze 1.2 VX i-VTEC</td>\n",
       "      <td>505000</td>\n",
       "      <td>2017</td>\n",
       "      <td>87150</td>\n",
       "      <td>Petrol</td>\n",
       "      <td>Manual</td>\n",
       "      <td>Pune</td>\n",
       "      <td>Grey</td>\n",
       "      <td>First</td>\n",
       "      <td>Corporate</td>\n",
       "      <td>1198 cc</td>\n",
       "      <td>87 bhp @ 6000 rpm</td>\n",
       "      <td>109 Nm @ 4500 rpm</td>\n",
       "      <td>FWD</td>\n",
       "      <td>3990.0</td>\n",
       "      <td>1680.0</td>\n",
       "      <td>1505.0</td>\n",
       "      <td>5.0</td>\n",
       "      <td>35.0</td>\n",
       "    </tr>\n",
       "    <tr>\n",
       "      <th>1</th>\n",
       "      <td>Maruti Suzuki</td>\n",
       "      <td>Swift DZire VDI</td>\n",
       "      <td>450000</td>\n",
       "      <td>2014</td>\n",
       "      <td>75000</td>\n",
       "      <td>Diesel</td>\n",
       "      <td>Manual</td>\n",
       "      <td>Ludhiana</td>\n",
       "      <td>White</td>\n",
       "      <td>Second</td>\n",
       "      <td>Individual</td>\n",
       "      <td>1248 cc</td>\n",
       "      <td>74 bhp @ 4000 rpm</td>\n",
       "      <td>190 Nm @ 2000 rpm</td>\n",
       "      <td>FWD</td>\n",
       "      <td>3995.0</td>\n",
       "      <td>1695.0</td>\n",
       "      <td>1555.0</td>\n",
       "      <td>5.0</td>\n",
       "      <td>42.0</td>\n",
       "    </tr>\n",
       "    <tr>\n",
       "      <th>2</th>\n",
       "      <td>Hyundai</td>\n",
       "      <td>i10 Magna 1.2 Kappa2</td>\n",
       "      <td>220000</td>\n",
       "      <td>2011</td>\n",
       "      <td>67000</td>\n",
       "      <td>Petrol</td>\n",
       "      <td>Manual</td>\n",
       "      <td>Lucknow</td>\n",
       "      <td>Maroon</td>\n",
       "      <td>First</td>\n",
       "      <td>Individual</td>\n",
       "      <td>1197 cc</td>\n",
       "      <td>79 bhp @ 6000 rpm</td>\n",
       "      <td>112.7619 Nm @ 4000 rpm</td>\n",
       "      <td>FWD</td>\n",
       "      <td>3585.0</td>\n",
       "      <td>1595.0</td>\n",
       "      <td>1550.0</td>\n",
       "      <td>5.0</td>\n",
       "      <td>35.0</td>\n",
       "    </tr>\n",
       "    <tr>\n",
       "      <th>3</th>\n",
       "      <td>Toyota</td>\n",
       "      <td>Glanza G</td>\n",
       "      <td>799000</td>\n",
       "      <td>2019</td>\n",
       "      <td>37500</td>\n",
       "      <td>Petrol</td>\n",
       "      <td>Manual</td>\n",
       "      <td>Mangalore</td>\n",
       "      <td>Red</td>\n",
       "      <td>First</td>\n",
       "      <td>Individual</td>\n",
       "      <td>1197 cc</td>\n",
       "      <td>82 bhp @ 6000 rpm</td>\n",
       "      <td>113 Nm @ 4200 rpm</td>\n",
       "      <td>FWD</td>\n",
       "      <td>3995.0</td>\n",
       "      <td>1745.0</td>\n",
       "      <td>1510.0</td>\n",
       "      <td>5.0</td>\n",
       "      <td>37.0</td>\n",
       "    </tr>\n",
       "    <tr>\n",
       "      <th>4</th>\n",
       "      <td>Toyota</td>\n",
       "      <td>Innova 2.4 VX 7 STR [2016-2020]</td>\n",
       "      <td>1950000</td>\n",
       "      <td>2018</td>\n",
       "      <td>69000</td>\n",
       "      <td>Diesel</td>\n",
       "      <td>Manual</td>\n",
       "      <td>Mumbai</td>\n",
       "      <td>Grey</td>\n",
       "      <td>First</td>\n",
       "      <td>Individual</td>\n",
       "      <td>2393 cc</td>\n",
       "      <td>148 bhp @ 3400 rpm</td>\n",
       "      <td>343 Nm @ 1400 rpm</td>\n",
       "      <td>RWD</td>\n",
       "      <td>4735.0</td>\n",
       "      <td>1830.0</td>\n",
       "      <td>1795.0</td>\n",
       "      <td>7.0</td>\n",
       "      <td>55.0</td>\n",
       "    </tr>\n",
       "  </tbody>\n",
       "</table>\n",
       "</div>"
      ],
      "text/plain": [
       "            Make                            Model    Price  Year  Kilometer  \\\n",
       "0          Honda              Amaze 1.2 VX i-VTEC   505000  2017      87150   \n",
       "1  Maruti Suzuki                  Swift DZire VDI   450000  2014      75000   \n",
       "2        Hyundai             i10 Magna 1.2 Kappa2   220000  2011      67000   \n",
       "3         Toyota                         Glanza G   799000  2019      37500   \n",
       "4         Toyota  Innova 2.4 VX 7 STR [2016-2020]  1950000  2018      69000   \n",
       "\n",
       "  Fuel Type Transmission   Location   Color   Owner Seller Type   Engine  \\\n",
       "0    Petrol       Manual       Pune    Grey   First   Corporate  1198 cc   \n",
       "1    Diesel       Manual   Ludhiana   White  Second  Individual  1248 cc   \n",
       "2    Petrol       Manual    Lucknow  Maroon   First  Individual  1197 cc   \n",
       "3    Petrol       Manual  Mangalore     Red   First  Individual  1197 cc   \n",
       "4    Diesel       Manual     Mumbai    Grey   First  Individual  2393 cc   \n",
       "\n",
       "            Max Power              Max Torque Drivetrain  Length   Width  \\\n",
       "0   87 bhp @ 6000 rpm       109 Nm @ 4500 rpm        FWD  3990.0  1680.0   \n",
       "1   74 bhp @ 4000 rpm       190 Nm @ 2000 rpm        FWD  3995.0  1695.0   \n",
       "2   79 bhp @ 6000 rpm  112.7619 Nm @ 4000 rpm        FWD  3585.0  1595.0   \n",
       "3   82 bhp @ 6000 rpm       113 Nm @ 4200 rpm        FWD  3995.0  1745.0   \n",
       "4  148 bhp @ 3400 rpm       343 Nm @ 1400 rpm        RWD  4735.0  1830.0   \n",
       "\n",
       "   Height  Seating Capacity  Fuel Tank Capacity  \n",
       "0  1505.0               5.0                35.0  \n",
       "1  1555.0               5.0                42.0  \n",
       "2  1550.0               5.0                35.0  \n",
       "3  1510.0               5.0                37.0  \n",
       "4  1795.0               7.0                55.0  "
      ]
     },
     "execution_count": 4,
     "metadata": {},
     "output_type": "execute_result"
    }
   ],
   "source": [
    "# Loading and Previewing the Car Dataset\n",
    "df =pd.read_csv('car_details.csv')\n",
    "df.head()"
   ]
  },
  {
   "cell_type": "code",
   "execution_count": 5,
   "id": "5de05a17",
   "metadata": {},
   "outputs": [
    {
     "data": {
      "text/plain": [
       "(2059, 20)"
      ]
     },
     "execution_count": 5,
     "metadata": {},
     "output_type": "execute_result"
    }
   ],
   "source": [
    "df.shape"
   ]
  },
  {
   "cell_type": "code",
   "execution_count": 6,
   "id": "d743fa59",
   "metadata": {},
   "outputs": [
    {
     "name": "stdout",
     "output_type": "stream",
     "text": [
      "<class 'pandas.core.frame.DataFrame'>\n",
      "RangeIndex: 2059 entries, 0 to 2058\n",
      "Data columns (total 20 columns):\n",
      " #   Column              Non-Null Count  Dtype  \n",
      "---  ------              --------------  -----  \n",
      " 0   Make                2059 non-null   object \n",
      " 1   Model               2059 non-null   object \n",
      " 2   Price               2059 non-null   int64  \n",
      " 3   Year                2059 non-null   int64  \n",
      " 4   Kilometer           2059 non-null   int64  \n",
      " 5   Fuel Type           2059 non-null   object \n",
      " 6   Transmission        2059 non-null   object \n",
      " 7   Location            2059 non-null   object \n",
      " 8   Color               2059 non-null   object \n",
      " 9   Owner               2059 non-null   object \n",
      " 10  Seller Type         2059 non-null   object \n",
      " 11  Engine              1979 non-null   object \n",
      " 12  Max Power           1979 non-null   object \n",
      " 13  Max Torque          1979 non-null   object \n",
      " 14  Drivetrain          1923 non-null   object \n",
      " 15  Length              1995 non-null   float64\n",
      " 16  Width               1995 non-null   float64\n",
      " 17  Height              1995 non-null   float64\n",
      " 18  Seating Capacity    1995 non-null   float64\n",
      " 19  Fuel Tank Capacity  1946 non-null   float64\n",
      "dtypes: float64(5), int64(3), object(12)\n",
      "memory usage: 321.8+ KB\n"
     ]
    }
   ],
   "source": [
    "df.info()"
   ]
  },
  {
   "cell_type": "markdown",
   "id": "4f544c75-4bb4-4f4d-8b31-bd16756408d5",
   "metadata": {},
   "source": [
    "### Data Preprocessing and feature engineering steps\n"
   ]
  },
  {
   "cell_type": "code",
   "execution_count": 8,
   "id": "0ae4979a",
   "metadata": {},
   "outputs": [
    {
     "data": {
      "text/plain": [
       "Make                    0\n",
       "Model                   0\n",
       "Price                   0\n",
       "Year                    0\n",
       "Kilometer               0\n",
       "Fuel Type               0\n",
       "Transmission            0\n",
       "Location                0\n",
       "Color                   0\n",
       "Owner                   0\n",
       "Seller Type             0\n",
       "Engine                 80\n",
       "Max Power              80\n",
       "Max Torque             80\n",
       "Drivetrain            136\n",
       "Length                 64\n",
       "Width                  64\n",
       "Height                 64\n",
       "Seating Capacity       64\n",
       "Fuel Tank Capacity    113\n",
       "dtype: int64"
      ]
     },
     "execution_count": 8,
     "metadata": {},
     "output_type": "execute_result"
    }
   ],
   "source": [
    "# Check for missing values in each column of the Data\n",
    "df.isnull().sum()"
   ]
  },
  {
   "cell_type": "code",
   "execution_count": 9,
   "id": "3796e512",
   "metadata": {},
   "outputs": [],
   "source": [
    "# Only rows with NaN (missing) values in the 'Engine' column will be dropped\n",
    "df.dropna(subset='Engine', inplace=True)"
   ]
  },
  {
   "cell_type": "code",
   "execution_count": 10,
   "id": "e1a53fef-3854-4ea9-b212-bffd5ed936d3",
   "metadata": {},
   "outputs": [
    {
     "data": {
      "text/plain": [
       "(1979, 17)"
      ]
     },
     "execution_count": 10,
     "metadata": {},
     "output_type": "execute_result"
    }
   ],
   "source": [
    "# The 'Model' column is considered irrelevant for analysis, so it is dropped\n",
    "# Columns like 'Drivetrain' and 'Fuel Tank Capacity' are dropped due to missing values\n",
    "df.drop(['Model','Drivetrain','Fuel Tank Capacity'], axis=1, inplace=True)\n",
    "df.shape"
   ]
  },
  {
   "cell_type": "code",
   "execution_count": 11,
   "id": "be01f137-0fc8-4710-9dc2-1277a751a6ea",
   "metadata": {},
   "outputs": [],
   "source": [
    "# Remove ' cc' suffix from the 'Engine' column values and convert to integer type\n",
    "df['Engine'] = df['Engine'].str.strip(' cc').astype('int32')\n",
    "\n",
    "# Rename the 'Engine' column to 'Engine_cc' for clarity and consistency\n",
    "df.rename(columns={'Engine': 'Engine_cc'}, inplace=True)"
   ]
  },
  {
   "cell_type": "code",
   "execution_count": 12,
   "id": "763f0b47-79c8-407f-908a-7056d7532ec2",
   "metadata": {},
   "outputs": [],
   "source": [
    "# Extract numerical values from 'Max Power' and 'Max Torque' columns\n",
    "df['Max Power (bhp)'] = df['Max Power'].str.findall(r'\\d+\\.?\\d*').str[0].astype(float)\n",
    "df['Max Torque (Nm)'] = df['Max Torque'].str.findall(r'\\d+\\.?\\d*').str[0].astype(float)\n",
    "\n",
    "# Drop the original columns\n",
    "df.drop(['Max Power', 'Max Torque'], axis=1, inplace=True)"
   ]
  },
  {
   "cell_type": "markdown",
   "id": "f093b2fb-493b-4472-9fa9-5179dea8e2ad",
   "metadata": {},
   "source": [
    "### Exploratory Data Analysis"
   ]
  },
  {
   "cell_type": "code",
   "execution_count": 14,
   "id": "0593ceb8-1474-4290-a27b-044276558a5d",
   "metadata": {},
   "outputs": [
    {
     "data": {
      "image/png": "[encoded data removed]",
      "text/plain": [
       "<Figure size 640x480 with 1 Axes>"
      ]
     },
     "metadata": {},
     "output_type": "display_data"
    }
   ],
   "source": [
    "# Visualize the distribution of prices (target variable)\n",
    "plt.hist(df.Price);"
   ]
  },
  {
   "cell_type": "code",
   "execution_count": 15,
   "id": "578da683-4b6d-41e2-9352-36a1b0549ef7",
   "metadata": {},
   "outputs": [
    {
     "data": {
      "image/png": "[encoded data removed]",
      "text/plain": [
       "<Figure size 640x480 with 1 Axes>"
      ]
     },
     "metadata": {},
     "output_type": "display_data"
    }
   ],
   "source": [
    "# Create a new target column 'log_Price' containing the logarithm-transformed 'Price' va\n",
    "df['log_Price']= np.log(df.Price)\n",
    "plt.hist(df['log_Price']); # Plot a histogram on target "
   ]
  },
  {
   "cell_type": "code",
   "execution_count": 16,
   "id": "c9288e90-85b0-477b-9e47-43ca7ebc5f1b",
   "metadata": {},
   "outputs": [
    {
     "data": {
      "text/html": [
       "<div>\n",
       "<style scoped>\n",
       "    .dataframe tbody tr th:only-of-type {\n",
       "        vertical-align: middle;\n",
       "    }\n",
       "\n",
       "    .dataframe tbody tr th {\n",
       "        vertical-align: top;\n",
       "    }\n",
       "\n",
       "    .dataframe thead th {\n",
       "        text-align: right;\n",
       "    }\n",
       "</style>\n",
       "<table border=\"1\" class=\"dataframe\">\n",
       "  <thead>\n",
       "    <tr style=\"text-align: right;\">\n",
       "      <th></th>\n",
       "      <th>Price</th>\n",
       "      <th>Year</th>\n",
       "      <th>Kilometer</th>\n",
       "      <th>Engine_cc</th>\n",
       "      <th>Length</th>\n",
       "      <th>Width</th>\n",
       "      <th>Height</th>\n",
       "      <th>Seating Capacity</th>\n",
       "      <th>Max Power (bhp)</th>\n",
       "      <th>Max Torque (Nm)</th>\n",
       "      <th>log_Price</th>\n",
       "    </tr>\n",
       "  </thead>\n",
       "  <tbody>\n",
       "    <tr>\n",
       "      <th>count</th>\n",
       "      <td>1.979000e+03</td>\n",
       "      <td>1979.000000</td>\n",
       "      <td>1.979000e+03</td>\n",
       "      <td>1979.000000</td>\n",
       "      <td>1979.000000</td>\n",
       "      <td>1979.000000</td>\n",
       "      <td>1979.000000</td>\n",
       "      <td>1979.000000</td>\n",
       "      <td>1979.000000</td>\n",
       "      <td>1979.000000</td>\n",
       "      <td>1979.000000</td>\n",
       "    </tr>\n",
       "    <tr>\n",
       "      <th>mean</th>\n",
       "      <td>1.718097e+06</td>\n",
       "      <td>2016.538656</td>\n",
       "      <td>5.407669e+04</td>\n",
       "      <td>1692.575543</td>\n",
       "      <td>4282.235472</td>\n",
       "      <td>1768.052046</td>\n",
       "      <td>1591.424457</td>\n",
       "      <td>5.305710</td>\n",
       "      <td>129.611774</td>\n",
       "      <td>245.851019</td>\n",
       "      <td>13.819522</td>\n",
       "    </tr>\n",
       "    <tr>\n",
       "      <th>std</th>\n",
       "      <td>2.448999e+06</td>\n",
       "      <td>3.232466</td>\n",
       "      <td>5.815359e+04</td>\n",
       "      <td>643.736294</td>\n",
       "      <td>442.754297</td>\n",
       "      <td>135.518809</td>\n",
       "      <td>136.516890</td>\n",
       "      <td>0.822474</td>\n",
       "      <td>65.073797</td>\n",
       "      <td>140.465731</td>\n",
       "      <td>0.976010</td>\n",
       "    </tr>\n",
       "    <tr>\n",
       "      <th>min</th>\n",
       "      <td>4.900000e+04</td>\n",
       "      <td>1988.000000</td>\n",
       "      <td>0.000000e+00</td>\n",
       "      <td>624.000000</td>\n",
       "      <td>3099.000000</td>\n",
       "      <td>1475.000000</td>\n",
       "      <td>1165.000000</td>\n",
       "      <td>2.000000</td>\n",
       "      <td>35.000000</td>\n",
       "      <td>48.000000</td>\n",
       "      <td>10.799576</td>\n",
       "    </tr>\n",
       "    <tr>\n",
       "      <th>25%</th>\n",
       "      <td>4.900000e+05</td>\n",
       "      <td>2014.000000</td>\n",
       "      <td>2.879150e+04</td>\n",
       "      <td>1197.000000</td>\n",
       "      <td>3985.000000</td>\n",
       "      <td>1695.000000</td>\n",
       "      <td>1485.000000</td>\n",
       "      <td>5.000000</td>\n",
       "      <td>83.000000</td>\n",
       "      <td>115.000000</td>\n",
       "      <td>13.102161</td>\n",
       "    </tr>\n",
       "    <tr>\n",
       "      <th>50%</th>\n",
       "      <td>8.250000e+05</td>\n",
       "      <td>2017.000000</td>\n",
       "      <td>5.000000e+04</td>\n",
       "      <td>1498.000000</td>\n",
       "      <td>4370.000000</td>\n",
       "      <td>1770.000000</td>\n",
       "      <td>1545.000000</td>\n",
       "      <td>5.000000</td>\n",
       "      <td>116.000000</td>\n",
       "      <td>200.000000</td>\n",
       "      <td>13.623139</td>\n",
       "    </tr>\n",
       "    <tr>\n",
       "      <th>75%</th>\n",
       "      <td>1.950000e+06</td>\n",
       "      <td>2019.000000</td>\n",
       "      <td>7.200000e+04</td>\n",
       "      <td>1995.000000</td>\n",
       "      <td>4629.500000</td>\n",
       "      <td>1833.500000</td>\n",
       "      <td>1677.000000</td>\n",
       "      <td>5.000000</td>\n",
       "      <td>171.000000</td>\n",
       "      <td>350.000000</td>\n",
       "      <td>14.483340</td>\n",
       "    </tr>\n",
       "    <tr>\n",
       "      <th>max</th>\n",
       "      <td>3.500000e+07</td>\n",
       "      <td>2022.000000</td>\n",
       "      <td>2.000000e+06</td>\n",
       "      <td>6592.000000</td>\n",
       "      <td>5569.000000</td>\n",
       "      <td>2220.000000</td>\n",
       "      <td>1995.000000</td>\n",
       "      <td>8.000000</td>\n",
       "      <td>660.000000</td>\n",
       "      <td>780.000000</td>\n",
       "      <td>17.370859</td>\n",
       "    </tr>\n",
       "  </tbody>\n",
       "</table>\n",
       "</div>"
      ],
      "text/plain": [
       "              Price         Year     Kilometer    Engine_cc       Length  \\\n",
       "count  1.979000e+03  1979.000000  1.979000e+03  1979.000000  1979.000000   \n",
       "mean   1.718097e+06  2016.538656  5.407669e+04  1692.575543  4282.235472   \n",
       "std    2.448999e+06     3.232466  5.815359e+04   643.736294   442.754297   \n",
       "min    4.900000e+04  1988.000000  0.000000e+00   624.000000  3099.000000   \n",
       "25%    4.900000e+05  2014.000000  2.879150e+04  1197.000000  3985.000000   \n",
       "50%    8.250000e+05  2017.000000  5.000000e+04  1498.000000  4370.000000   \n",
       "75%    1.950000e+06  2019.000000  7.200000e+04  1995.000000  4629.500000   \n",
       "max    3.500000e+07  2022.000000  2.000000e+06  6592.000000  5569.000000   \n",
       "\n",
       "             Width       Height  Seating Capacity  Max Power (bhp)  \\\n",
       "count  1979.000000  1979.000000       1979.000000      1979.000000   \n",
       "mean   1768.052046  1591.424457          5.305710       129.611774   \n",
       "std     135.518809   136.516890          0.822474        65.073797   \n",
       "min    1475.000000  1165.000000          2.000000        35.000000   \n",
       "25%    1695.000000  1485.000000          5.000000        83.000000   \n",
       "50%    1770.000000  1545.000000          5.000000       116.000000   \n",
       "75%    1833.500000  1677.000000          5.000000       171.000000   \n",
       "max    2220.000000  1995.000000          8.000000       660.000000   \n",
       "\n",
       "       Max Torque (Nm)    log_Price  \n",
       "count      1979.000000  1979.000000  \n",
       "mean        245.851019    13.819522  \n",
       "std         140.465731     0.976010  \n",
       "min          48.000000    10.799576  \n",
       "25%         115.000000    13.102161  \n",
       "50%         200.000000    13.623139  \n",
       "75%         350.000000    14.483340  \n",
       "max         780.000000    17.370859  "
      ]
     },
     "execution_count": 16,
     "metadata": {},
     "output_type": "execute_result"
    }
   ],
   "source": [
    "df.describe() # descriptive statistics for numerical columns"
   ]
  },
  {
   "cell_type": "code",
   "execution_count": 17,
   "id": "247a36b4-010f-46b1-863d-a2148b656567",
   "metadata": {},
   "outputs": [
    {
     "data": {
      "text/plain": [
       "log_Price           1.000000\n",
       "Max Power (bhp)     0.823071\n",
       "Max Torque (Nm)     0.815318\n",
       "Price               0.797947\n",
       "Width               0.774991\n",
       "Length              0.766475\n",
       "Engine_cc           0.704325\n",
       "Year                0.507711\n",
       "Height              0.170543\n",
       "Seating Capacity    0.094266\n",
       "Kilometer          -0.159618\n",
       "Name: log_Price, dtype: float64"
      ]
     },
     "execution_count": 17,
     "metadata": {},
     "output_type": "execute_result"
    }
   ],
   "source": [
    "df.select_dtypes(include=['number']).corr()['log_Price'].sort_values(ascending=False)\n",
    "# Calculate the correlation coefficients between 'log_Price' and all other numerical features"
   ]
  },
  {
   "cell_type": "code",
   "execution_count": 18,
   "id": "116c743f-cfd1-4326-a21a-c80d6ba21e13",
   "metadata": {},
   "outputs": [
    {
     "data": {
      "text/plain": [
       "Price               1.000000\n",
       "Year                0.313436\n",
       "Kilometer          -0.149907\n",
       "Engine_cc           0.615328\n",
       "Length              0.556539\n",
       "Width               0.563727\n",
       "Height              0.075346\n",
       "Seating Capacity   -0.040704\n",
       "Max Power (bhp)     0.781419\n",
       "Max Torque (Nm)     0.671290\n",
       "log_Price           0.797947\n",
       "Name: Price, dtype: float64"
      ]
     },
     "execution_count": 18,
     "metadata": {},
     "output_type": "execute_result"
    }
   ],
   "source": [
    "df.select_dtypes(include=['number']).corr()['Price']"
   ]
  },
  {
   "cell_type": "code",
   "execution_count": 19,
   "id": "5cf1cbfc-e6e4-4747-9f53-e25c1f1ebe06",
   "metadata": {},
   "outputs": [],
   "source": [
    "df.drop(columns='Price', inplace=True) # Drop the 'Price' column"
   ]
  },
  {
   "cell_type": "code",
   "execution_count": 20,
   "id": "5539d979-7f58-4c4f-9a48-3c5641fb15d9",
   "metadata": {},
   "outputs": [
    {
     "data": {
      "text/html": [
       "<div>\n",
       "<style scoped>\n",
       "    .dataframe tbody tr th:only-of-type {\n",
       "        vertical-align: middle;\n",
       "    }\n",
       "\n",
       "    .dataframe tbody tr th {\n",
       "        vertical-align: top;\n",
       "    }\n",
       "\n",
       "    .dataframe thead th {\n",
       "        text-align: right;\n",
       "    }\n",
       "</style>\n",
       "<table border=\"1\" class=\"dataframe\">\n",
       "  <thead>\n",
       "    <tr style=\"text-align: right;\">\n",
       "      <th></th>\n",
       "      <th>Make</th>\n",
       "      <th>Fuel Type</th>\n",
       "      <th>Transmission</th>\n",
       "      <th>Location</th>\n",
       "      <th>Color</th>\n",
       "      <th>Owner</th>\n",
       "      <th>Seller Type</th>\n",
       "    </tr>\n",
       "  </thead>\n",
       "  <tbody>\n",
       "    <tr>\n",
       "      <th>count</th>\n",
       "      <td>1979</td>\n",
       "      <td>1979</td>\n",
       "      <td>1979</td>\n",
       "      <td>1979</td>\n",
       "      <td>1979</td>\n",
       "      <td>1979</td>\n",
       "      <td>1979</td>\n",
       "    </tr>\n",
       "    <tr>\n",
       "      <th>unique</th>\n",
       "      <td>33</td>\n",
       "      <td>7</td>\n",
       "      <td>2</td>\n",
       "      <td>76</td>\n",
       "      <td>17</td>\n",
       "      <td>6</td>\n",
       "      <td>3</td>\n",
       "    </tr>\n",
       "    <tr>\n",
       "      <th>top</th>\n",
       "      <td>Maruti Suzuki</td>\n",
       "      <td>Diesel</td>\n",
       "      <td>Manual</td>\n",
       "      <td>Mumbai</td>\n",
       "      <td>White</td>\n",
       "      <td>First</td>\n",
       "      <td>Individual</td>\n",
       "    </tr>\n",
       "    <tr>\n",
       "      <th>freq</th>\n",
       "      <td>426</td>\n",
       "      <td>1017</td>\n",
       "      <td>1095</td>\n",
       "      <td>324</td>\n",
       "      <td>763</td>\n",
       "      <td>1572</td>\n",
       "      <td>1920</td>\n",
       "    </tr>\n",
       "  </tbody>\n",
       "</table>\n",
       "</div>"
      ],
      "text/plain": [
       "                 Make Fuel Type Transmission Location  Color  Owner  \\\n",
       "count            1979      1979         1979     1979   1979   1979   \n",
       "unique             33         7            2       76     17      6   \n",
       "top     Maruti Suzuki    Diesel       Manual   Mumbai  White  First   \n",
       "freq              426      1017         1095      324    763   1572   \n",
       "\n",
       "       Seller Type  \n",
       "count         1979  \n",
       "unique           3  \n",
       "top     Individual  \n",
       "freq          1920  "
      ]
     },
     "execution_count": 20,
     "metadata": {},
     "output_type": "execute_result"
    }
   ],
   "source": [
    "df.describe(include='object')  # Descriptive statistics for features with Categorical data"
   ]
  },
  {
   "cell_type": "code",
   "execution_count": 21,
   "id": "1deb255c-7849-4d14-87ca-ba583ef68bfc",
   "metadata": {},
   "outputs": [
    {
     "data": {
      "image/png": "[encoded data removed]",
      "text/plain": [
       "<Figure size 640x480 with 1 Axes>"
      ]
     },
     "metadata": {},
     "output_type": "display_data"
    }
   ],
   "source": [
    "# boxplot to visualize the distribution of log_Price across different brands\n",
    "sns.boxplot(data=df,x='Make',y='log_Price') \n",
    "plt.xticks(rotation=90)\n",
    "plt.show()"
   ]
  },
  {
   "cell_type": "code",
   "execution_count": 22,
   "id": "bc38ce27-8113-4c11-b724-b33770ac77d0",
   "metadata": {},
   "outputs": [],
   "source": [
    "maker_counts = df['Make'].value_counts()  # Count the occurrences of each brand in the 'Make' column\n",
    "idx = maker_counts[maker_counts < 5].index  # Get the indices of brands with counts less than 5\n",
    "df.drop(df[df['Make'].isin(idx)].index, inplace=True)  # Drop rows where the brand is in the 'low frequency' list"
   ]
  },
  {
   "cell_type": "code",
   "execution_count": 23,
   "id": "c1dcee00-501c-45d6-8505-20dcd70fd694",
   "metadata": {},
   "outputs": [
    {
     "data": {
      "image/png": "[encoded data removed]",
      "text/plain": [
       "<Figure size 640x480 with 1 Axes>"
      ]
     },
     "metadata": {},
     "output_type": "display_data"
    }
   ],
   "source": [
    "sns.boxplot(data=df,x='Fuel Type',y='log_Price')\n",
    "plt.xticks(rotation=90)\n",
    "plt.show()"
   ]
  },
  {
   "cell_type": "code",
   "execution_count": 24,
   "id": "d41a51b0-76e2-4b28-9d1e-5498e01bc1b2",
   "metadata": {},
   "outputs": [],
   "source": [
    "df.drop(df[df['Fuel Type'].isin(['LPG', 'CNG + CNG', 'Petrol + CNG'])].index, inplace=True)"
   ]
  },
  {
   "cell_type": "code",
   "execution_count": 25,
   "id": "f5e18682-bffc-4f47-9e59-8ba53c95db6e",
   "metadata": {},
   "outputs": [
    {
     "data": {
      "text/plain": [
       "Fuel Type\n",
       "Diesel    1006\n",
       "Petrol     896\n",
       "CNG         50\n",
       "Hybrid       3\n",
       "Name: count, dtype: int64"
      ]
     },
     "execution_count": 25,
     "metadata": {},
     "output_type": "execute_result"
    }
   ],
   "source": [
    "df['Fuel Type'].value_counts()"
   ]
  },
  {
   "cell_type": "code",
   "execution_count": 26,
   "id": "89df4569-78e7-462c-b54d-b9a6b21bfbfe",
   "metadata": {},
   "outputs": [
    {
     "data": {
      "image/png": "[encoded data removed]",
      "text/plain": [
       "<Figure size 640x480 with 1 Axes>"
      ]
     },
     "metadata": {},
     "output_type": "display_data"
    }
   ],
   "source": [
    "sns.boxplot(data=df,x='Transmission',y='log_Price')\n",
    "#plt.xticks(rotation=90)\n",
    "plt.show()\n"
   ]
  },
  {
   "cell_type": "code",
   "execution_count": 27,
   "id": "4cd534c1-6999-457d-9373-07648483394b",
   "metadata": {},
   "outputs": [
    {
     "data": {
      "image/png": "[encoded data removed]",
      "text/plain": [
       "<Figure size 640x480 with 1 Axes>"
      ]
     },
     "metadata": {},
     "output_type": "display_data"
    }
   ],
   "source": [
    "sns.boxplot(data=df,x='Color',y='log_Price')\n",
    "plt.xticks(rotation=90)\n",
    "plt.show()"
   ]
  },
  {
   "cell_type": "code",
   "execution_count": 28,
   "id": "2952f825-eabc-426d-83f7-d97e39b8c8c3",
   "metadata": {},
   "outputs": [],
   "source": [
    "df.drop(df[df['Color']=='Pink'].index, inplace=True)"
   ]
  },
  {
   "cell_type": "code",
   "execution_count": 29,
   "id": "b816b925-1ac0-45f7-a82a-7ac35b151181",
   "metadata": {},
   "outputs": [
    {
     "data": {
      "image/png": "[encoded data removed]",
      "text/plain": [
       "<Figure size 640x480 with 1 Axes>"
      ]
     },
     "metadata": {},
     "output_type": "display_data"
    }
   ],
   "source": [
    "sns.boxplot(data=df,x='Owner',y='log_Price')\n",
    "plt.xticks(rotation=90)\n",
    "plt.show()"
   ]
  },
  {
   "cell_type": "code",
   "execution_count": 30,
   "id": "b7ee11f4-e16c-4002-bc0e-4a21dbaaf31f",
   "metadata": {},
   "outputs": [],
   "source": [
    "df.drop(df[df['Owner'].isin(['Fourth','4 or More'])].index, inplace=True)"
   ]
  },
  {
   "cell_type": "code",
   "execution_count": 31,
   "id": "b36ebd3b-b196-47ca-8fe0-40f65bc6b43c",
   "metadata": {},
   "outputs": [],
   "source": [
    "df.drop(df[df['Seller Type']=='Commercial Registration'].index, inplace=True)"
   ]
  },
  {
   "cell_type": "code",
   "execution_count": 32,
   "id": "2742141a-0ea4-44a5-a08a-8b4f76a5e480",
   "metadata": {},
   "outputs": [
    {
     "data": {
      "image/png": "[encoded data removed]",
      "text/plain": [
       "<Figure size 640x480 with 1 Axes>"
      ]
     },
     "metadata": {},
     "output_type": "display_data"
    }
   ],
   "source": [
    "sns.boxplot(data=df,x='Seller Type',y='log_Price')\n",
    "# plt.xticks(rotation=90)\n",
    "plt.show()"
   ]
  },
  {
   "cell_type": "code",
   "execution_count": 33,
   "id": "07046267-8a8c-4e70-b3ef-491f4f2442c0",
   "metadata": {},
   "outputs": [
    {
     "data": {
      "text/plain": [
       "(1946, 17)"
      ]
     },
     "execution_count": 33,
     "metadata": {},
     "output_type": "execute_result"
    }
   ],
   "source": [
    "df.shape"
   ]
  },
  {
   "cell_type": "code",
   "execution_count": 34,
   "id": "64a6171c-35d9-4f3a-857b-e40f8048c428",
   "metadata": {},
   "outputs": [
    {
     "data": {
      "text/plain": [
       "Make                False\n",
       "Year                False\n",
       "Kilometer           False\n",
       "Fuel Type           False\n",
       "Transmission        False\n",
       "Location            False\n",
       "Color               False\n",
       "Owner               False\n",
       "Seller Type         False\n",
       "Engine_cc           False\n",
       "Length              False\n",
       "Width               False\n",
       "Height              False\n",
       "Seating Capacity    False\n",
       "Max Power (bhp)     False\n",
       "Max Torque (Nm)     False\n",
       "log_Price           False\n",
       "dtype: bool"
      ]
     },
     "execution_count": 34,
     "metadata": {},
     "output_type": "execute_result"
    }
   ],
   "source": [
    "df.isnull().any()"
   ]
  },
  {
   "cell_type": "code",
   "execution_count": 35,
   "id": "421ad9e8-0d43-4080-9447-8eb2ff6f4341",
   "metadata": {},
   "outputs": [
    {
     "data": {
      "text/html": [
       "<div>\n",
       "<style scoped>\n",
       "    .dataframe tbody tr th:only-of-type {\n",
       "        vertical-align: middle;\n",
       "    }\n",
       "\n",
       "    .dataframe tbody tr th {\n",
       "        vertical-align: top;\n",
       "    }\n",
       "\n",
       "    .dataframe thead th {\n",
       "        text-align: right;\n",
       "    }\n",
       "</style>\n",
       "<table border=\"1\" class=\"dataframe\">\n",
       "  <thead>\n",
       "    <tr style=\"text-align: right;\">\n",
       "      <th></th>\n",
       "      <th>Make</th>\n",
       "      <th>Year</th>\n",
       "      <th>Kilometer</th>\n",
       "      <th>Fuel Type</th>\n",
       "      <th>Transmission</th>\n",
       "      <th>Location</th>\n",
       "      <th>Color</th>\n",
       "      <th>Owner</th>\n",
       "      <th>Seller Type</th>\n",
       "      <th>Engine_cc</th>\n",
       "      <th>Length</th>\n",
       "      <th>Width</th>\n",
       "      <th>Height</th>\n",
       "      <th>Seating Capacity</th>\n",
       "      <th>Max Power (bhp)</th>\n",
       "      <th>Max Torque (Nm)</th>\n",
       "      <th>log_Price</th>\n",
       "    </tr>\n",
       "  </thead>\n",
       "  <tbody>\n",
       "    <tr>\n",
       "      <th>0</th>\n",
       "      <td>Honda</td>\n",
       "      <td>2017</td>\n",
       "      <td>87150</td>\n",
       "      <td>Petrol</td>\n",
       "      <td>Manual</td>\n",
       "      <td>Pune</td>\n",
       "      <td>Grey</td>\n",
       "      <td>First</td>\n",
       "      <td>Corporate</td>\n",
       "      <td>1198</td>\n",
       "      <td>3990.0</td>\n",
       "      <td>1680.0</td>\n",
       "      <td>1505.0</td>\n",
       "      <td>5.0</td>\n",
       "      <td>87.0</td>\n",
       "      <td>109.0000</td>\n",
       "      <td>13.132314</td>\n",
       "    </tr>\n",
       "    <tr>\n",
       "      <th>1</th>\n",
       "      <td>Maruti Suzuki</td>\n",
       "      <td>2014</td>\n",
       "      <td>75000</td>\n",
       "      <td>Diesel</td>\n",
       "      <td>Manual</td>\n",
       "      <td>Ludhiana</td>\n",
       "      <td>White</td>\n",
       "      <td>Second</td>\n",
       "      <td>Individual</td>\n",
       "      <td>1248</td>\n",
       "      <td>3995.0</td>\n",
       "      <td>1695.0</td>\n",
       "      <td>1555.0</td>\n",
       "      <td>5.0</td>\n",
       "      <td>74.0</td>\n",
       "      <td>190.0000</td>\n",
       "      <td>13.017003</td>\n",
       "    </tr>\n",
       "    <tr>\n",
       "      <th>2</th>\n",
       "      <td>Hyundai</td>\n",
       "      <td>2011</td>\n",
       "      <td>67000</td>\n",
       "      <td>Petrol</td>\n",
       "      <td>Manual</td>\n",
       "      <td>Lucknow</td>\n",
       "      <td>Maroon</td>\n",
       "      <td>First</td>\n",
       "      <td>Individual</td>\n",
       "      <td>1197</td>\n",
       "      <td>3585.0</td>\n",
       "      <td>1595.0</td>\n",
       "      <td>1550.0</td>\n",
       "      <td>5.0</td>\n",
       "      <td>79.0</td>\n",
       "      <td>112.7619</td>\n",
       "      <td>12.301383</td>\n",
       "    </tr>\n",
       "    <tr>\n",
       "      <th>3</th>\n",
       "      <td>Toyota</td>\n",
       "      <td>2019</td>\n",
       "      <td>37500</td>\n",
       "      <td>Petrol</td>\n",
       "      <td>Manual</td>\n",
       "      <td>Mangalore</td>\n",
       "      <td>Red</td>\n",
       "      <td>First</td>\n",
       "      <td>Individual</td>\n",
       "      <td>1197</td>\n",
       "      <td>3995.0</td>\n",
       "      <td>1745.0</td>\n",
       "      <td>1510.0</td>\n",
       "      <td>5.0</td>\n",
       "      <td>82.0</td>\n",
       "      <td>113.0000</td>\n",
       "      <td>13.591116</td>\n",
       "    </tr>\n",
       "    <tr>\n",
       "      <th>4</th>\n",
       "      <td>Toyota</td>\n",
       "      <td>2018</td>\n",
       "      <td>69000</td>\n",
       "      <td>Diesel</td>\n",
       "      <td>Manual</td>\n",
       "      <td>Mumbai</td>\n",
       "      <td>Grey</td>\n",
       "      <td>First</td>\n",
       "      <td>Individual</td>\n",
       "      <td>2393</td>\n",
       "      <td>4735.0</td>\n",
       "      <td>1830.0</td>\n",
       "      <td>1795.0</td>\n",
       "      <td>7.0</td>\n",
       "      <td>148.0</td>\n",
       "      <td>343.0000</td>\n",
       "      <td>14.483340</td>\n",
       "    </tr>\n",
       "  </tbody>\n",
       "</table>\n",
       "</div>"
      ],
      "text/plain": [
       "            Make  Year  Kilometer Fuel Type Transmission   Location   Color  \\\n",
       "0          Honda  2017      87150    Petrol       Manual       Pune    Grey   \n",
       "1  Maruti Suzuki  2014      75000    Diesel       Manual   Ludhiana   White   \n",
       "2        Hyundai  2011      67000    Petrol       Manual    Lucknow  Maroon   \n",
       "3         Toyota  2019      37500    Petrol       Manual  Mangalore     Red   \n",
       "4         Toyota  2018      69000    Diesel       Manual     Mumbai    Grey   \n",
       "\n",
       "    Owner Seller Type  Engine_cc  Length   Width  Height  Seating Capacity  \\\n",
       "0   First   Corporate       1198  3990.0  1680.0  1505.0               5.0   \n",
       "1  Second  Individual       1248  3995.0  1695.0  1555.0               5.0   \n",
       "2   First  Individual       1197  3585.0  1595.0  1550.0               5.0   \n",
       "3   First  Individual       1197  3995.0  1745.0  1510.0               5.0   \n",
       "4   First  Individual       2393  4735.0  1830.0  1795.0               7.0   \n",
       "\n",
       "   Max Power (bhp)  Max Torque (Nm)  log_Price  \n",
       "0             87.0         109.0000  13.132314  \n",
       "1             74.0         190.0000  13.017003  \n",
       "2             79.0         112.7619  12.301383  \n",
       "3             82.0         113.0000  13.591116  \n",
       "4            148.0         343.0000  14.483340  "
      ]
     },
     "execution_count": 35,
     "metadata": {},
     "output_type": "execute_result"
    }
   ],
   "source": [
    "df.head()"
   ]
  },
  {
   "cell_type": "code",
   "execution_count": 36,
   "id": "f7a08300-c351-4fb9-8f45-b816f4e3f066",
   "metadata": {},
   "outputs": [],
   "source": [
    "X = df.drop(columns='log_Price') # Select features (X) by dropping the 'log_Price' target\n",
    "y = df['log_Price'] # Select the target variable (y)"
   ]
  },
  {
   "cell_type": "code",
   "execution_count": 37,
   "id": "2e054ee4-d420-4e0a-8129-47d42ef2c24e",
   "metadata": {},
   "outputs": [],
   "source": [
    "categoric = X.select_dtypes('object').columns.tolist() # Getting categorical features\n",
    "numeric =  X.select_dtypes('number').columns.tolist()  # Getting numerical features"
   ]
  },
  {
   "cell_type": "markdown",
   "id": "d7654804-065f-4486-b2e2-5874b7db1071",
   "metadata": {},
   "source": [
    "### Model Training and Evaluation:"
   ]
  },
  {
   "cell_type": "code",
   "execution_count": 39,
   "id": "e8ff448f-2781-4a4e-a68f-17f0d5802096",
   "metadata": {},
   "outputs": [],
   "source": [
    "import numpy as np\n",
    "import pandas as pd\n",
    "from sklearn.model_selection import train_test_split\n",
    "from sklearn.preprocessing import OneHotEncoder, MinMaxScaler\n",
    "from sklearn.decomposition import PCA\n",
    "from sklearn.pipeline import Pipeline\n",
    "from sklearn.compose import ColumnTransformer\n",
    "from sklearn.linear_model import LinearRegression"
   ]
  },
  {
   "cell_type": "code",
   "execution_count": 40,
   "id": "a5c30040-f217-4eb5-8efa-7debfd1041b3",
   "metadata": {},
   "outputs": [],
   "source": [
    "# Split data into training and testing sets\n",
    "X_train, X_test, y_train, y_test = train_test_split(X, y, test_size=0.20, random_state=42)"
   ]
  },
  {
   "cell_type": "code",
   "execution_count": 41,
   "id": "8c47ba9c-4611-4e2c-bdc3-606bd3084f69",
   "metadata": {},
   "outputs": [],
   "source": [
    "# Define preprocessing steps for different column types\n",
    "preprocessor = ColumnTransformer(\n",
    "    transformers=[\n",
    "        ('cat', OneHotEncoder(sparse_output=False, handle_unknown = 'ignore'), categoric),  # One-hot encode categorical features\n",
    "        ('num', MinMaxScaler(), numeric)  # Scale numeric features to a specified range\n",
    "    ])\n",
    "\n",
    "# Define steps for the pipeline\n",
    "steps = [\n",
    "    ('preprocessor', preprocessor),  # Step 1: Preprocessing\n",
    "    ('pca', PCA(n_components=70)),   # Step 2: PCA for dimensionality reduction\n",
    "    ('model', LinearRegression())]   # Step 3: Machine Learning model\n",
    "pipeline = Pipeline(steps)"
   ]
  },
  {
   "cell_type": "code",
   "execution_count": 42,
   "id": "1916cb40-a6db-40fb-9a1a-78f38732d15b",
   "metadata": {},
   "outputs": [
    {
     "data": {
      "text/html": [
       "<style>#sk-container-id-1 {\n",
       "  /* Definition of color scheme common for light and dark mode */\n",
       "  --sklearn-color-text: black;\n",
       "  --sklearn-color-line: gray;\n",
       "  /* Definition of color scheme for unfitted estimators */\n",
       "  --sklearn-color-unfitted-level-0: #fff5e6;\n",
       "  --sklearn-color-unfitted-level-1: #f6e4d2;\n",
       "  --sklearn-color-unfitted-level-2: #ffe0b3;\n",
       "  --sklearn-color-unfitted-level-3: chocolate;\n",
       "  /* Definition of color scheme for fitted estimators */\n",
       "  --sklearn-color-fitted-level-0: #f0f8ff;\n",
       "  --sklearn-color-fitted-level-1: #d4ebff;\n",
       "  --sklearn-color-fitted-level-2: #b3dbfd;\n",
       "  --sklearn-color-fitted-level-3: cornflowerblue;\n",
       "\n",
       "  /* Specific color for light theme */\n",
       "  --sklearn-color-text-on-default-background: var(--sg-text-color, var(--theme-code-foreground, var(--jp-content-font-color1, black)));\n",
       "  --sklearn-color-background: var(--sg-background-color, var(--theme-background, var(--jp-layout-color0, white)));\n",
       "  --sklearn-color-border-box: var(--sg-text-color, var(--theme-code-foreground, var(--jp-content-font-color1, black)));\n",
       "  --sklearn-color-icon: #696969;\n",
       "\n",
       "  @media (prefers-color-scheme: dark) {\n",
       "    /* Redefinition of color scheme for dark theme */\n",
       "    --sklearn-color-text-on-default-background: var(--sg-text-color, var(--theme-code-foreground, var(--jp-content-font-color1, white)));\n",
       "    --sklearn-color-background: var(--sg-background-color, var(--theme-background, var(--jp-layout-color0, #111)));\n",
       "    --sklearn-color-border-box: var(--sg-text-color, var(--theme-code-foreground, var(--jp-content-font-color1, white)));\n",
       "    --sklearn-color-icon: #878787;\n",
       "  }\n",
       "}\n",
       "\n",
       "#sk-container-id-1 {\n",
       "  color: var(--sklearn-color-text);\n",
       "}\n",
       "\n",
       "#sk-container-id-1 pre {\n",
       "  padding: 0;\n",
       "}\n",
       "\n",
       "#sk-container-id-1 input.sk-hidden--visually {\n",
       "  border: 0;\n",
       "  clip: rect(1px 1px 1px 1px);\n",
       "  clip: rect(1px, 1px, 1px, 1px);\n",
       "  height: 1px;\n",
       "  margin: -1px;\n",
       "  overflow: hidden;\n",
       "  padding: 0;\n",
       "  position: absolute;\n",
       "  width: 1px;\n",
       "}\n",
       "\n",
       "#sk-container-id-1 div.sk-dashed-wrapped {\n",
       "  border: 1px dashed var(--sklearn-color-line);\n",
       "  margin: 0 0.4em 0.5em 0.4em;\n",
       "  box-sizing: border-box;\n",
       "  padding-bottom: 0.4em;\n",
       "  background-color: var(--sklearn-color-background);\n",
       "}\n",
       "\n",
       "#sk-container-id-1 div.sk-container {\n",
       "  /* jupyter's `normalize.less` sets `[hidden] { display: none; }`\n",
       "     but bootstrap.min.css set `[hidden] { display: none !important; }`\n",
       "     so we also need the `!important` here to be able to override the\n",
       "     default hidden behavior on the sphinx rendered scikit-learn.org.\n",
       "     See: https://github.com/scikit-learn/scikit-learn/issues/21755 */\n",
       "  display: inline-block !important;\n",
       "  position: relative;\n",
       "}\n",
       "\n",
       "#sk-container-id-1 div.sk-text-repr-fallback {\n",
       "  display: none;\n",
       "}\n",
       "\n",
       "div.sk-parallel-item,\n",
       "div.sk-serial,\n",
       "div.sk-item {\n",
       "  /* draw centered vertical line to link estimators */\n",
       "  background-image: linear-gradient(var(--sklearn-color-text-on-default-background), var(--sklearn-color-text-on-default-background));\n",
       "  background-size: 2px 100%;\n",
       "  background-repeat: no-repeat;\n",
       "  background-position: center center;\n",
       "}\n",
       "\n",
       "/* Parallel-specific style estimator block */\n",
       "\n",
       "#sk-container-id-1 div.sk-parallel-item::after {\n",
       "  content: \"\";\n",
       "  width: 100%;\n",
       "  border-bottom: 2px solid var(--sklearn-color-text-on-default-background);\n",
       "  flex-grow: 1;\n",
       "}\n",
       "\n",
       "#sk-container-id-1 div.sk-parallel {\n",
       "  display: flex;\n",
       "  align-items: stretch;\n",
       "  justify-content: center;\n",
       "  background-color: var(--sklearn-color-background);\n",
       "  position: relative;\n",
       "}\n",
       "\n",
       "#sk-container-id-1 div.sk-parallel-item {\n",
       "  display: flex;\n",
       "  flex-direction: column;\n",
       "}\n",
       "\n",
       "#sk-container-id-1 div.sk-parallel-item:first-child::after {\n",
       "  align-self: flex-end;\n",
       "  width: 50%;\n",
       "}\n",
       "\n",
       "#sk-container-id-1 div.sk-parallel-item:last-child::after {\n",
       "  align-self: flex-start;\n",
       "  width: 50%;\n",
       "}\n",
       "\n",
       "#sk-container-id-1 div.sk-parallel-item:only-child::after {\n",
       "  width: 0;\n",
       "}\n",
       "\n",
       "/* Serial-specific style estimator block */\n",
       "\n",
       "#sk-container-id-1 div.sk-serial {\n",
       "  display: flex;\n",
       "  flex-direction: column;\n",
       "  align-items: center;\n",
       "  background-color: var(--sklearn-color-background);\n",
       "  padding-right: 1em;\n",
       "  padding-left: 1em;\n",
       "}\n",
       "\n",
       "\n",
       "/* Toggleable style: style used for estimator/Pipeline/ColumnTransformer box that is\n",
       "clickable and can be expanded/collapsed.\n",
       "- Pipeline and ColumnTransformer use this feature and define the default style\n",
       "- Estimators will overwrite some part of the style using the `sk-estimator` class\n",
       "*/\n",
       "\n",
       "/* Pipeline and ColumnTransformer style (default) */\n",
       "\n",
       "#sk-container-id-1 div.sk-toggleable {\n",
       "  /* Default theme specific background. It is overwritten whether we have a\n",
       "  specific estimator or a Pipeline/ColumnTransformer */\n",
       "  background-color: var(--sklearn-color-background);\n",
       "}\n",
       "\n",
       "/* Toggleable label */\n",
       "#sk-container-id-1 label.sk-toggleable__label {\n",
       "  cursor: pointer;\n",
       "  display: block;\n",
       "  width: 100%;\n",
       "  margin-bottom: 0;\n",
       "  padding: 0.5em;\n",
       "  box-sizing: border-box;\n",
       "  text-align: center;\n",
       "}\n",
       "\n",
       "#sk-container-id-1 label.sk-toggleable__label-arrow:before {\n",
       "  /* Arrow on the left of the label */\n",
       "  content: \"▸\";\n",
       "  float: left;\n",
       "  margin-right: 0.25em;\n",
       "  color: var(--sklearn-color-icon);\n",
       "}\n",
       "\n",
       "#sk-container-id-1 label.sk-toggleable__label-arrow:hover:before {\n",
       "  color: var(--sklearn-color-text);\n",
       "}\n",
       "\n",
       "/* Toggleable content - dropdown */\n",
       "\n",
       "#sk-container-id-1 div.sk-toggleable__content {\n",
       "  max-height: 0;\n",
       "  max-width: 0;\n",
       "  overflow: hidden;\n",
       "  text-align: left;\n",
       "  /* unfitted */\n",
       "  background-color: var(--sklearn-color-unfitted-level-0);\n",
       "}\n",
       "\n",
       "#sk-container-id-1 div.sk-toggleable__content.fitted {\n",
       "  /* fitted */\n",
       "  background-color: var(--sklearn-color-fitted-level-0);\n",
       "}\n",
       "\n",
       "#sk-container-id-1 div.sk-toggleable__content pre {\n",
       "  margin: 0.2em;\n",
       "  border-radius: 0.25em;\n",
       "  color: var(--sklearn-color-text);\n",
       "  /* unfitted */\n",
       "  background-color: var(--sklearn-color-unfitted-level-0);\n",
       "}\n",
       "\n",
       "#sk-container-id-1 div.sk-toggleable__content.fitted pre {\n",
       "  /* unfitted */\n",
       "  background-color: var(--sklearn-color-fitted-level-0);\n",
       "}\n",
       "\n",
       "#sk-container-id-1 input.sk-toggleable__control:checked~div.sk-toggleable__content {\n",
       "  /* Expand drop-down */\n",
       "  max-height: 200px;\n",
       "  max-width: 100%;\n",
       "  overflow: auto;\n",
       "}\n",
       "\n",
       "#sk-container-id-1 input.sk-toggleable__control:checked~label.sk-toggleable__label-arrow:before {\n",
       "  content: \"▾\";\n",
       "}\n",
       "\n",
       "/* Pipeline/ColumnTransformer-specific style */\n",
       "\n",
       "#sk-container-id-1 div.sk-label input.sk-toggleable__control:checked~label.sk-toggleable__label {\n",
       "  color: var(--sklearn-color-text);\n",
       "  background-color: var(--sklearn-color-unfitted-level-2);\n",
       "}\n",
       "\n",
       "#sk-container-id-1 div.sk-label.fitted input.sk-toggleable__control:checked~label.sk-toggleable__label {\n",
       "  background-color: var(--sklearn-color-fitted-level-2);\n",
       "}\n",
       "\n",
       "/* Estimator-specific style */\n",
       "\n",
       "/* Colorize estimator box */\n",
       "#sk-container-id-1 div.sk-estimator input.sk-toggleable__control:checked~label.sk-toggleable__label {\n",
       "  /* unfitted */\n",
       "  background-color: var(--sklearn-color-unfitted-level-2);\n",
       "}\n",
       "\n",
       "#sk-container-id-1 div.sk-estimator.fitted input.sk-toggleable__control:checked~label.sk-toggleable__label {\n",
       "  /* fitted */\n",
       "  background-color: var(--sklearn-color-fitted-level-2);\n",
       "}\n",
       "\n",
       "#sk-container-id-1 div.sk-label label.sk-toggleable__label,\n",
       "#sk-container-id-1 div.sk-label label {\n",
       "  /* The background is the default theme color */\n",
       "  color: var(--sklearn-color-text-on-default-background);\n",
       "}\n",
       "\n",
       "/* On hover, darken the color of the background */\n",
       "#sk-container-id-1 div.sk-label:hover label.sk-toggleable__label {\n",
       "  color: var(--sklearn-color-text);\n",
       "  background-color: var(--sklearn-color-unfitted-level-2);\n",
       "}\n",
       "\n",
       "/* Label box, darken color on hover, fitted */\n",
       "#sk-container-id-1 div.sk-label.fitted:hover label.sk-toggleable__label.fitted {\n",
       "  color: var(--sklearn-color-text);\n",
       "  background-color: var(--sklearn-color-fitted-level-2);\n",
       "}\n",
       "\n",
       "/* Estimator label */\n",
       "\n",
       "#sk-container-id-1 div.sk-label label {\n",
       "  font-family: monospace;\n",
       "  font-weight: bold;\n",
       "  display: inline-block;\n",
       "  line-height: 1.2em;\n",
       "}\n",
       "\n",
       "#sk-container-id-1 div.sk-label-container {\n",
       "  text-align: center;\n",
       "}\n",
       "\n",
       "/* Estimator-specific */\n",
       "#sk-container-id-1 div.sk-estimator {\n",
       "  font-family: monospace;\n",
       "  border: 1px dotted var(--sklearn-color-border-box);\n",
       "  border-radius: 0.25em;\n",
       "  box-sizing: border-box;\n",
       "  margin-bottom: 0.5em;\n",
       "  /* unfitted */\n",
       "  background-color: var(--sklearn-color-unfitted-level-0);\n",
       "}\n",
       "\n",
       "#sk-container-id-1 div.sk-estimator.fitted {\n",
       "  /* fitted */\n",
       "  background-color: var(--sklearn-color-fitted-level-0);\n",
       "}\n",
       "\n",
       "/* on hover */\n",
       "#sk-container-id-1 div.sk-estimator:hover {\n",
       "  /* unfitted */\n",
       "  background-color: var(--sklearn-color-unfitted-level-2);\n",
       "}\n",
       "\n",
       "#sk-container-id-1 div.sk-estimator.fitted:hover {\n",
       "  /* fitted */\n",
       "  background-color: var(--sklearn-color-fitted-level-2);\n",
       "}\n",
       "\n",
       "/* Specification for estimator info (e.g. \"i\" and \"?\") */\n",
       "\n",
       "/* Common style for \"i\" and \"?\" */\n",
       "\n",
       ".sk-estimator-doc-link,\n",
       "a:link.sk-estimator-doc-link,\n",
       "a:visited.sk-estimator-doc-link {\n",
       "  float: right;\n",
       "  font-size: smaller;\n",
       "  line-height: 1em;\n",
       "  font-family: monospace;\n",
       "  background-color: var(--sklearn-color-background);\n",
       "  border-radius: 1em;\n",
       "  height: 1em;\n",
       "  width: 1em;\n",
       "  text-decoration: none !important;\n",
       "  margin-left: 1ex;\n",
       "  /* unfitted */\n",
       "  border: var(--sklearn-color-unfitted-level-1) 1pt solid;\n",
       "  color: var(--sklearn-color-unfitted-level-1);\n",
       "}\n",
       "\n",
       ".sk-estimator-doc-link.fitted,\n",
       "a:link.sk-estimator-doc-link.fitted,\n",
       "a:visited.sk-estimator-doc-link.fitted {\n",
       "  /* fitted */\n",
       "  border: var(--sklearn-color-fitted-level-1) 1pt solid;\n",
       "  color: var(--sklearn-color-fitted-level-1);\n",
       "}\n",
       "\n",
       "/* On hover */\n",
       "div.sk-estimator:hover .sk-estimator-doc-link:hover,\n",
       ".sk-estimator-doc-link:hover,\n",
       "div.sk-label-container:hover .sk-estimator-doc-link:hover,\n",
       ".sk-estimator-doc-link:hover {\n",
       "  /* unfitted */\n",
       "  background-color: var(--sklearn-color-unfitted-level-3);\n",
       "  color: var(--sklearn-color-background);\n",
       "  text-decoration: none;\n",
       "}\n",
       "\n",
       "div.sk-estimator.fitted:hover .sk-estimator-doc-link.fitted:hover,\n",
       ".sk-estimator-doc-link.fitted:hover,\n",
       "div.sk-label-container:hover .sk-estimator-doc-link.fitted:hover,\n",
       ".sk-estimator-doc-link.fitted:hover {\n",
       "  /* fitted */\n",
       "  background-color: var(--sklearn-color-fitted-level-3);\n",
       "  color: var(--sklearn-color-background);\n",
       "  text-decoration: none;\n",
       "}\n",
       "\n",
       "/* Span, style for the box shown on hovering the info icon */\n",
       ".sk-estimator-doc-link span {\n",
       "  display: none;\n",
       "  z-index: 9999;\n",
       "  position: relative;\n",
       "  font-weight: normal;\n",
       "  right: .2ex;\n",
       "  padding: .5ex;\n",
       "  margin: .5ex;\n",
       "  width: min-content;\n",
       "  min-width: 20ex;\n",
       "  max-width: 50ex;\n",
       "  color: var(--sklearn-color-text);\n",
       "  box-shadow: 2pt 2pt 4pt #999;\n",
       "  /* unfitted */\n",
       "  background: var(--sklearn-color-unfitted-level-0);\n",
       "  border: .5pt solid var(--sklearn-color-unfitted-level-3);\n",
       "}\n",
       "\n",
       ".sk-estimator-doc-link.fitted span {\n",
       "  /* fitted */\n",
       "  background: var(--sklearn-color-fitted-level-0);\n",
       "  border: var(--sklearn-color-fitted-level-3);\n",
       "}\n",
       "\n",
       ".sk-estimator-doc-link:hover span {\n",
       "  display: block;\n",
       "}\n",
       "\n",
       "/* \"?\"-specific style due to the `<a>` HTML tag */\n",
       "\n",
       "#sk-container-id-1 a.estimator_doc_link {\n",
       "  float: right;\n",
       "  font-size: 1rem;\n",
       "  line-height: 1em;\n",
       "  font-family: monospace;\n",
       "  background-color: var(--sklearn-color-background);\n",
       "  border-radius: 1rem;\n",
       "  height: 1rem;\n",
       "  width: 1rem;\n",
       "  text-decoration: none;\n",
       "  /* unfitted */\n",
       "  color: var(--sklearn-color-unfitted-level-1);\n",
       "  border: var(--sklearn-color-unfitted-level-1) 1pt solid;\n",
       "}\n",
       "\n",
       "#sk-container-id-1 a.estimator_doc_link.fitted {\n",
       "  /* fitted */\n",
       "  border: var(--sklearn-color-fitted-level-1) 1pt solid;\n",
       "  color: var(--sklearn-color-fitted-level-1);\n",
       "}\n",
       "\n",
       "/* On hover */\n",
       "#sk-container-id-1 a.estimator_doc_link:hover {\n",
       "  /* unfitted */\n",
       "  background-color: var(--sklearn-color-unfitted-level-3);\n",
       "  color: var(--sklearn-color-background);\n",
       "  text-decoration: none;\n",
       "}\n",
       "\n",
       "#sk-container-id-1 a.estimator_doc_link.fitted:hover {\n",
       "  /* fitted */\n",
       "  background-color: var(--sklearn-color-fitted-level-3);\n",
       "}\n",
       "</style><div id=\"sk-container-id-1\" class=\"sk-top-container\"><div class=\"sk-text-repr-fallback\"><pre>Pipeline(steps=[(&#x27;preprocessor&#x27;,\n",
       "                 ColumnTransformer(transformers=[(&#x27;cat&#x27;,\n",
       "                                                  OneHotEncoder(handle_unknown=&#x27;ignore&#x27;,\n",
       "                                                                sparse_output=False),\n",
       "                                                  [&#x27;Make&#x27;, &#x27;Fuel Type&#x27;,\n",
       "                                                   &#x27;Transmission&#x27;, &#x27;Location&#x27;,\n",
       "                                                   &#x27;Color&#x27;, &#x27;Owner&#x27;,\n",
       "                                                   &#x27;Seller Type&#x27;]),\n",
       "                                                 (&#x27;num&#x27;, MinMaxScaler(),\n",
       "                                                  [&#x27;Year&#x27;, &#x27;Kilometer&#x27;,\n",
       "                                                   &#x27;Engine_cc&#x27;, &#x27;Length&#x27;,\n",
       "                                                   &#x27;Width&#x27;, &#x27;Height&#x27;,\n",
       "                                                   &#x27;Seating Capacity&#x27;,\n",
       "                                                   &#x27;Max Power (bhp)&#x27;,\n",
       "                                                   &#x27;Max Torque (Nm)&#x27;])])),\n",
       "                (&#x27;pca&#x27;, PCA(n_components=70)), (&#x27;model&#x27;, LinearRegression())])</pre><b>In a Jupyter environment, please rerun this cell to show the HTML representation or trust the notebook. <br />On GitHub, the HTML representation is unable to render, please try loading this page with nbviewer.org.</b></div><div class=\"sk-container\" hidden><div class=\"sk-item sk-dashed-wrapped\"><div class=\"sk-label-container\"><div class=\"sk-label fitted sk-toggleable\"><input class=\"sk-toggleable__control sk-hidden--visually\" id=\"sk-estimator-id-1\" type=\"checkbox\" ><label for=\"sk-estimator-id-1\" class=\"sk-toggleable__label fitted sk-toggleable__label-arrow fitted\">&nbsp;&nbsp;Pipeline<a class=\"sk-estimator-doc-link fitted\" rel=\"noreferrer\" target=\"_blank\" href=\"https://scikit-learn.org/1.5/modules/generated/sklearn.pipeline.Pipeline.html\">?<span>Documentation for Pipeline</span></a><span class=\"sk-estimator-doc-link fitted\">i<span>Fitted</span></span></label><div class=\"sk-toggleable__content fitted\"><pre>Pipeline(steps=[(&#x27;preprocessor&#x27;,\n",
       "                 ColumnTransformer(transformers=[(&#x27;cat&#x27;,\n",
       "                                                  OneHotEncoder(handle_unknown=&#x27;ignore&#x27;,\n",
       "                                                                sparse_output=False),\n",
       "                                                  [&#x27;Make&#x27;, &#x27;Fuel Type&#x27;,\n",
       "                                                   &#x27;Transmission&#x27;, &#x27;Location&#x27;,\n",
       "                                                   &#x27;Color&#x27;, &#x27;Owner&#x27;,\n",
       "                                                   &#x27;Seller Type&#x27;]),\n",
       "                                                 (&#x27;num&#x27;, MinMaxScaler(),\n",
       "                                                  [&#x27;Year&#x27;, &#x27;Kilometer&#x27;,\n",
       "                                                   &#x27;Engine_cc&#x27;, &#x27;Length&#x27;,\n",
       "                                                   &#x27;Width&#x27;, &#x27;Height&#x27;,\n",
       "                                                   &#x27;Seating Capacity&#x27;,\n",
       "                                                   &#x27;Max Power (bhp)&#x27;,\n",
       "                                                   &#x27;Max Torque (Nm)&#x27;])])),\n",
       "                (&#x27;pca&#x27;, PCA(n_components=70)), (&#x27;model&#x27;, LinearRegression())])</pre></div> </div></div><div class=\"sk-serial\"><div class=\"sk-item sk-dashed-wrapped\"><div class=\"sk-label-container\"><div class=\"sk-label fitted sk-toggleable\"><input class=\"sk-toggleable__control sk-hidden--visually\" id=\"sk-estimator-id-2\" type=\"checkbox\" ><label for=\"sk-estimator-id-2\" class=\"sk-toggleable__label fitted sk-toggleable__label-arrow fitted\">&nbsp;preprocessor: ColumnTransformer<a class=\"sk-estimator-doc-link fitted\" rel=\"noreferrer\" target=\"_blank\" href=\"https://scikit-learn.org/1.5/modules/generated/sklearn.compose.ColumnTransformer.html\">?<span>Documentation for preprocessor: ColumnTransformer</span></a></label><div class=\"sk-toggleable__content fitted\"><pre>ColumnTransformer(transformers=[(&#x27;cat&#x27;,\n",
       "                                 OneHotEncoder(handle_unknown=&#x27;ignore&#x27;,\n",
       "                                               sparse_output=False),\n",
       "                                 [&#x27;Make&#x27;, &#x27;Fuel Type&#x27;, &#x27;Transmission&#x27;,\n",
       "                                  &#x27;Location&#x27;, &#x27;Color&#x27;, &#x27;Owner&#x27;,\n",
       "                                  &#x27;Seller Type&#x27;]),\n",
       "                                (&#x27;num&#x27;, MinMaxScaler(),\n",
       "                                 [&#x27;Year&#x27;, &#x27;Kilometer&#x27;, &#x27;Engine_cc&#x27;, &#x27;Length&#x27;,\n",
       "                                  &#x27;Width&#x27;, &#x27;Height&#x27;, &#x27;Seating Capacity&#x27;,\n",
       "                                  &#x27;Max Power (bhp)&#x27;, &#x27;Max Torque (Nm)&#x27;])])</pre></div> </div></div><div class=\"sk-parallel\"><div class=\"sk-parallel-item\"><div class=\"sk-item\"><div class=\"sk-label-container\"><div class=\"sk-label fitted sk-toggleable\"><input class=\"sk-toggleable__control sk-hidden--visually\" id=\"sk-estimator-id-3\" type=\"checkbox\" ><label for=\"sk-estimator-id-3\" class=\"sk-toggleable__label fitted sk-toggleable__label-arrow fitted\">cat</label><div class=\"sk-toggleable__content fitted\"><pre>[&#x27;Make&#x27;, &#x27;Fuel Type&#x27;, &#x27;Transmission&#x27;, &#x27;Location&#x27;, &#x27;Color&#x27;, &#x27;Owner&#x27;, &#x27;Seller Type&#x27;]</pre></div> </div></div><div class=\"sk-serial\"><div class=\"sk-item\"><div class=\"sk-estimator fitted sk-toggleable\"><input class=\"sk-toggleable__control sk-hidden--visually\" id=\"sk-estimator-id-4\" type=\"checkbox\" ><label for=\"sk-estimator-id-4\" class=\"sk-toggleable__label fitted sk-toggleable__label-arrow fitted\">&nbsp;OneHotEncoder<a class=\"sk-estimator-doc-link fitted\" rel=\"noreferrer\" target=\"_blank\" href=\"https://scikit-learn.org/1.5/modules/generated/sklearn.preprocessing.OneHotEncoder.html\">?<span>Documentation for OneHotEncoder</span></a></label><div class=\"sk-toggleable__content fitted\"><pre>OneHotEncoder(handle_unknown=&#x27;ignore&#x27;, sparse_output=False)</pre></div> </div></div></div></div></div><div class=\"sk-parallel-item\"><div class=\"sk-item\"><div class=\"sk-label-container\"><div class=\"sk-label fitted sk-toggleable\"><input class=\"sk-toggleable__control sk-hidden--visually\" id=\"sk-estimator-id-5\" type=\"checkbox\" ><label for=\"sk-estimator-id-5\" class=\"sk-toggleable__label fitted sk-toggleable__label-arrow fitted\">num</label><div class=\"sk-toggleable__content fitted\"><pre>[&#x27;Year&#x27;, &#x27;Kilometer&#x27;, &#x27;Engine_cc&#x27;, &#x27;Length&#x27;, &#x27;Width&#x27;, &#x27;Height&#x27;, &#x27;Seating Capacity&#x27;, &#x27;Max Power (bhp)&#x27;, &#x27;Max Torque (Nm)&#x27;]</pre></div> </div></div><div class=\"sk-serial\"><div class=\"sk-item\"><div class=\"sk-estimator fitted sk-toggleable\"><input class=\"sk-toggleable__control sk-hidden--visually\" id=\"sk-estimator-id-6\" type=\"checkbox\" ><label for=\"sk-estimator-id-6\" class=\"sk-toggleable__label fitted sk-toggleable__label-arrow fitted\">&nbsp;MinMaxScaler<a class=\"sk-estimator-doc-link fitted\" rel=\"noreferrer\" target=\"_blank\" href=\"https://scikit-learn.org/1.5/modules/generated/sklearn.preprocessing.MinMaxScaler.html\">?<span>Documentation for MinMaxScaler</span></a></label><div class=\"sk-toggleable__content fitted\"><pre>MinMaxScaler()</pre></div> </div></div></div></div></div></div></div><div class=\"sk-item\"><div class=\"sk-estimator fitted sk-toggleable\"><input class=\"sk-toggleable__control sk-hidden--visually\" id=\"sk-estimator-id-7\" type=\"checkbox\" ><label for=\"sk-estimator-id-7\" class=\"sk-toggleable__label fitted sk-toggleable__label-arrow fitted\">&nbsp;PCA<a class=\"sk-estimator-doc-link fitted\" rel=\"noreferrer\" target=\"_blank\" href=\"https://scikit-learn.org/1.5/modules/generated/sklearn.decomposition.PCA.html\">?<span>Documentation for PCA</span></a></label><div class=\"sk-toggleable__content fitted\"><pre>PCA(n_components=70)</pre></div> </div></div><div class=\"sk-item\"><div class=\"sk-estimator fitted sk-toggleable\"><input class=\"sk-toggleable__control sk-hidden--visually\" id=\"sk-estimator-id-8\" type=\"checkbox\" ><label for=\"sk-estimator-id-8\" class=\"sk-toggleable__label fitted sk-toggleable__label-arrow fitted\">&nbsp;LinearRegression<a class=\"sk-estimator-doc-link fitted\" rel=\"noreferrer\" target=\"_blank\" href=\"https://scikit-learn.org/1.5/modules/generated/sklearn.linear_model.LinearRegression.html\">?<span>Documentation for LinearRegression</span></a></label><div class=\"sk-toggleable__content fitted\"><pre>LinearRegression()</pre></div> </div></div></div></div></div></div>"
      ],
      "text/plain": [
       "Pipeline(steps=[('preprocessor',\n",
       "                 ColumnTransformer(transformers=[('cat',\n",
       "                                                  OneHotEncoder(handle_unknown='ignore',\n",
       "                                                                sparse_output=False),\n",
       "                                                  ['Make', 'Fuel Type',\n",
       "                                                   'Transmission', 'Location',\n",
       "                                                   'Color', 'Owner',\n",
       "                                                   'Seller Type']),\n",
       "                                                 ('num', MinMaxScaler(),\n",
       "                                                  ['Year', 'Kilometer',\n",
       "                                                   'Engine_cc', 'Length',\n",
       "                                                   'Width', 'Height',\n",
       "                                                   'Seating Capacity',\n",
       "                                                   'Max Power (bhp)',\n",
       "                                                   'Max Torque (Nm)'])])),\n",
       "                ('pca', PCA(n_components=70)), ('model', LinearRegression())])"
      ]
     },
     "execution_count": 42,
     "metadata": {},
     "output_type": "execute_result"
    }
   ],
   "source": [
    "# Fit the pipeline to the training data\n",
    "pipeline.fit(X_train,y_train)"
   ]
  },
  {
   "cell_type": "markdown",
   "id": "d1ea2849-dd77-44dd-8616-b2875dc5f90d",
   "metadata": {},
   "source": [
    "### Evaluate model performance"
   ]
  },
  {
   "cell_type": "code",
   "execution_count": 44,
   "id": "33b7a546-69ec-4396-b2b4-aecff2a0793a",
   "metadata": {},
   "outputs": [
    {
     "data": {
      "text/plain": [
       "0.9051400916945105"
      ]
     },
     "execution_count": 44,
     "metadata": {},
     "output_type": "execute_result"
    }
   ],
   "source": [
    "accuracy = pipeline.score(X_test, y_test)\n",
    "accuracy"
   ]
  },
  {
   "cell_type": "code",
   "execution_count": 45,
   "id": "7ea24507-01bc-4d8a-9fd8-e3a7ca85cee1",
   "metadata": {},
   "outputs": [],
   "source": [
    "y_pred_train = pipeline.predict(X_train)\n",
    "y_pred_test = pipeline.predict(X_test)"
   ]
  },
  {
   "cell_type": "code",
   "execution_count": 46,
   "id": "40df6c4d-f719-4934-9794-45962fe21d36",
   "metadata": {},
   "outputs": [],
   "source": [
    "from sklearn.metrics import mean_squared_error,r2_score"
   ]
  },
  {
   "cell_type": "code",
   "execution_count": 47,
   "id": "9d9e0719-4ebe-4c01-87da-d9f6fe31ce78",
   "metadata": {},
   "outputs": [
    {
     "name": "stdout",
     "output_type": "stream",
     "text": [
      "mse_train=0.08647288238047147\n",
      "r2_train=0.9086096131019072\n"
     ]
    }
   ],
   "source": [
    "# Calculate Meab Square Error on Traning Data\n",
    "mse_train = mean_squared_error(y_train,y_pred_train)\n",
    "print(f'{mse_train=}')\n",
    "\n",
    "# Calculate R-squared (R2) score on Traning Data\n",
    "r2_train = r2_score(y_train,y_pred_train)\n",
    "print(f'{r2_train=}')"
   ]
  },
  {
   "cell_type": "code",
   "execution_count": 48,
   "id": "e4e84b06-0a16-4a74-a447-58b6329a7aed",
   "metadata": {},
   "outputs": [
    {
     "name": "stdout",
     "output_type": "stream",
     "text": [
      "mse_test=0.07791508668474935\n",
      "r2_test=0.9051400916945105\n"
     ]
    }
   ],
   "source": [
    "# Calculate Meab Square Error on Test Data\n",
    "mse_test = mean_squared_error(y_test,y_pred_test)\n",
    "print(f'{mse_test=}')\n",
    "\n",
    "# Calculate R-squared (R2) score on Test Data\n",
    "r2_test =  r2_score(y_test,y_pred_test)             \n",
    "print(f'{r2_test=}')"
   ]
  },
  {
   "cell_type": "code",
   "execution_count": 49,
   "id": "65c46c35-f71f-4582-bd84-2c1299e43760",
   "metadata": {},
   "outputs": [
    {
     "data": {
      "text/plain": [
       "0.0"
      ]
     },
     "execution_count": 49,
     "metadata": {},
     "output_type": "execute_result"
    }
   ],
   "source": [
    "residuals = y_pred_train - y_pred_train   # Calculate residuals  \n",
    "residuals.sum()                           # Calculate sum of residuals                       "
   ]
  },
  {
   "cell_type": "code",
   "execution_count": 50,
   "id": "413a8ab1-6cdf-44cb-9ecb-d060c4479d02",
   "metadata": {},
   "outputs": [
    {
     "data": {
      "image/png": "[encoded data removed]",
      "text/plain": [
       "<Figure size 640x480 with 1 Axes>"
      ]
     },
     "metadata": {},
     "output_type": "display_data"
    }
   ],
   "source": [
    "plt.scatter(y_pred_train,residuals)\n",
    "plt.title('Residual Analysis: Predicted Values vs. Residuals (Training Data)')\n",
    "plt.xlabel(\"Prediction : Traning Data\")\n",
    "plt.ylabel(\"Residuals : Traning Data\")\n",
    "plt.show()"
   ]
  },
  {
   "cell_type": "code",
   "execution_count": null,
   "id": "11463cba-0f13-486b-8ae9-cd07af142567",
   "metadata": {},
   "outputs": [],
   "source": []
  }
 ],
 "metadata": {
  "kernelspec": {
   "display_name": "Python 3 (ipykernel)",
   "language": "python",
   "name": "python3"
  },
  "language_info": {
   "codemirror_mode": {
    "name": "ipython",
    "version": 3
   },
   "file_extension": ".py",
   "mimetype": "text/x-python",
   "name": "python",
   "nbconvert_exporter": "python",
   "pygments_lexer": "ipython3",
   "version": "3.12.7"
  }
 },
 "nbformat": 4,
 "nbformat_minor": 5
}
